{
 "cells": [
  {
   "cell_type": "code",
   "execution_count": 1,
   "metadata": {},
   "outputs": [
    {
     "ename": "AttributeError",
     "evalue": "'AxesSubplot' object has no attribute 'set_axis'",
     "output_type": "error",
     "traceback": [
      "\u001B[0;31m---------------------------------------------------------------------------\u001B[0m",
      "\u001B[0;31mAttributeError\u001B[0m                            Traceback (most recent call last)",
      "\u001B[0;32m<ipython-input-1-8e28879c54b8>\u001B[0m in \u001B[0;36m<module>\u001B[0;34m\u001B[0m\n\u001B[1;32m     59\u001B[0m fig, ((ax1, ax2), (ax3, ax4)) = plt.subplots(nrows=2, ncols=2,\n\u001B[1;32m     60\u001B[0m                                              figsize=(12, 5))\n\u001B[0;32m---> 61\u001B[0;31m \u001B[0max4\u001B[0m\u001B[0;34m.\u001B[0m\u001B[0mset_axis\u001B[0m\u001B[0;34m(\u001B[0m\u001B[0;34m'off'\u001B[0m\u001B[0;34m)\u001B[0m\u001B[0;34m\u001B[0m\u001B[0;34m\u001B[0m\u001B[0m\n\u001B[0m\u001B[1;32m     62\u001B[0m \u001B[0mdisplay\u001B[0m\u001B[0;34m(\u001B[0m\u001B[0mfig\u001B[0m\u001B[0;34m)\u001B[0m\u001B[0;34m\u001B[0m\u001B[0;34m\u001B[0m\u001B[0m\n\u001B[1;32m     63\u001B[0m \u001B[0;34m\u001B[0m\u001B[0m\n",
      "\u001B[0;31mAttributeError\u001B[0m: 'AxesSubplot' object has no attribute 'set_axis'"
     ]
    },
    {
     "data": {
      "image/png": "[encoded data removed]",
      "text/plain": [
       "<Figure size 864x360 with 4 Axes>"
      ]
     },
     "metadata": {
      "needs_background": "light"
     },
     "output_type": "display_data"
    }
   ],
   "source": [
    "import numpy as np\n",
    "import scipy\n",
    "import scipy.sparse\n",
    "import matplotlib.pyplot as plt\n",
    "\n",
    "from tqdm import tqdm_notebook\n",
    "\n",
    "import sys\n",
    "from IPython.display import display, clear_output\n",
    "class Model:\n",
    "    def __init__(self):\n",
    "        self.th0 = 0\n",
    "        self.gamma = 0.5\n",
    "        self.N = 100000\n",
    "        self.P = 16\n",
    "        self.f = 0.01\n",
    "        self.kappa = 11\n",
    "        self.xi0 = 1\n",
    "        self.dt = 1e-2\n",
    "        self.T = 10\n",
    "        self.phi = 0\n",
    "        self.tau = 1e-1\n",
    "\n",
    "    def makePatterns(self):\n",
    "        self.eta = scipy.sparse.random(self.N, self.P, density=self.f,\n",
    "                                       data_rvs=lambda n: np.ones((n,)))\n",
    "\n",
    "    def gain(self, x):\n",
    "        x1 = np.where((self.th0 + x) <= 0., 0, self.th0 + x)\n",
    "        return np.power(x1, self.gamma)\n",
    "\n",
    "    def Jr(self, c):\n",
    "        r = self.gain(c)\n",
    "        pc = self.eta.T.dot(r) - self.f * r.sum()\n",
    "        return (self.eta.dot(\n",
    "            pc) - self.f * pc.sum() - r * self.phi) * self.kappa / self.N\n",
    "\n",
    "    def grad(self, c):\n",
    "        return (-c + self.Jr(c) + np.random.randn(c.shape[0], c.shape[\n",
    "            1]) * self.xi0) / self.tau\n",
    "\n",
    "np.random.seed(12354)\n",
    "mod = Model()\n",
    "mod.N = 10000\n",
    "mod.P = 16\n",
    "mod.f = 0.1\n",
    "# mod.eta*=0\n",
    "mod.xi0 = 0.5\n",
    "mod.kappa = 1000\n",
    "\n",
    "phiAmp = 400\n",
    "phi0 = phiAmp + 600\n",
    "nT = 50000\n",
    "memRec = np.zeros((nT,))\n",
    "tRecAll = []\n",
    "ITR = np.empty((0, 1))\n",
    "itrByLen = [np.empty((k - 1, 0)) for k in range(1, mod.P + 1)]\n",
    "\n",
    "fig, ((ax1, ax2), (ax3, ax4)) = plt.subplots(nrows=2, ncols=2,\n",
    "                                             figsize=(12, 5))\n",
    "ax4.set_axis('off')\n",
    "display(fig)\n",
    "\n",
    "for it in tqdm_notebook(range(1000)):\n",
    "    print(str(it) + \"        \\r\")\n",
    "    mod.makePatterns()\n",
    "    tr = np.empty((mod.N, nT))\n",
    "    # c = np.random.randn(mod.N, 1)\n",
    "    c = (mod.eta.tocsr()[:, 0]).todense()\n",
    "    tr[:, :1] = c\n",
    "    for k in tqdm_notebook(range(1, tr.shape[1])):\n",
    "        c += mod.grad(c) * mod.dt\n",
    "        tr[:, k] = np.array(c)[:, 0]\n",
    "        mod.phi = phi0 - phiAmp * np.sin(k / 50)\n",
    "    mu = (mod.eta.T.dot(mod.gain(tr)) - mod.f * mod.gain(tr).sum(\n",
    "        axis=0)).T / mod.N\n",
    "    mem1 = ((mu > 0.5).cumsum(axis=0) > 0).sum(axis=1)\n",
    "    trec = np.argwhere(np.diff(mem1))\n",
    "    tRecAll.append(trec)\n",
    "    ITR = np.vstack((ITR, np.diff(trec, axis=0)))\n",
    "    memRec += mem1\n",
    "    itrByLen[len(trec) - 1] = np.hstack(\n",
    "        (itrByLen[len(trec) - 1], np.diff(trec, axis=0)))\n",
    "    ax1.cla()\n",
    "    ax1.plot(memRec / len(tRecAll))\n",
    "    ax2.cla()\n",
    "    ax2.hist(ITR, bins=100)\n",
    "    ax2.set_xlim([0, 10000])\n",
    "    ax2.set_yscale('log')\n",
    "    ax3.cla()\n",
    "    for itr in itrByLen:\n",
    "        if itr.size > 0:\n",
    "            ax3.plot(itr.mean(axis=1))\n",
    "    clear_output(wait=True)\n",
    "    display(fig)\n",
    "    fig.savefig('res.png', dpi=600)\n"
   ]
  },
  {
   "cell_type": "code",
   "execution_count": null,
   "outputs": [],
   "source": [],
   "metadata": {
    "collapsed": false,
    "pycharm": {
     "name": "#%%\n"
    }
   }
  },
  {
   "cell_type": "code",
   "execution_count": null,
   "metadata": {},
   "outputs": [],
   "source": []
  }
 ],
 "metadata": {
  "kernelspec": {
   "display_name": "Python 3",
   "language": "python",
   "name": "python3"
  },
  "language_info": {
   "codemirror_mode": {
    "name": "ipython",
    "version": 3
   },
   "file_extension": ".py",
   "mimetype": "text/x-python",
   "name": "python",
   "nbconvert_exporter": "python",
   "pygments_lexer": "ipython3",
   "version": "3.7.7"
  }
 },
 "nbformat": 4,
 "nbformat_minor": 1
}